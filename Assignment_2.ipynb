{
  "nbformat": 4,
  "nbformat_minor": 0,
  "metadata": {
    "colab": {
      "name": "Assignment-2.ipynb",
      "provenance": [],
      "authorship_tag": "ABX9TyPAzaf1GuYxV+Gti/+Ji/MD",
      "include_colab_link": true
    },
    "kernelspec": {
      "name": "python3",
      "display_name": "Python 3"
    },
    "language_info": {
      "name": "python"
    }
  },
  "cells": [
    {
      "cell_type": "markdown",
      "metadata": {
        "id": "view-in-github",
        "colab_type": "text"
      },
      "source": [
        "<a href=\"https://colab.research.google.com/github/hemanth0296/git-learner/blob/main/Assignment_2.ipynb\" target=\"_parent\"><img src=\"https://colab.research.google.com/assets/colab-badge.svg\" alt=\"Open In Colab\"/></a>"
      ]
    },
    {
      "cell_type": "code",
      "metadata": {
        "colab": {
          "base_uri": "https://localhost:8080/"
        },
        "id": "_vGUtJwZK1hU",
        "outputId": "8a91045d-9b68-4f6f-eb3f-49b8e85785ce"
      },
      "source": [
        "#Assignment-2\n",
        "#Remove all occurences of an element from a list\n",
        "lst=[10,45,67,45,90]\n",
        "lst.remove(45)\n",
        "print(lst)"
      ],
      "execution_count": 5,
      "outputs": [
        {
          "output_type": "stream",
          "text": [
            "[10, 67, 45, 90]\n"
          ],
          "name": "stdout"
        }
      ]
    },
    {
      "cell_type": "code",
      "metadata": {
        "id": "-9vrT3B7L-r5"
      },
      "source": [
        "#Check whether string is pangram\n",
        "A pangram is a sentence containing every letter in english alphabet\n"
      ],
      "execution_count": null,
      "outputs": []
    },
    {
      "cell_type": "code",
      "metadata": {
        "colab": {
          "base_uri": "https://localhost:8080/"
        },
        "id": "lSv9pC6WNURR",
        "outputId": "e813381a-a02b-474c-fc32-6a230d6924b8"
      },
      "source": [
        "#OTP generator\n",
        "import random as rm\n",
        "import string\n",
        "len=4\n",
        "otp=' '\n",
        "char=string.ascii_letters + string.digits\n",
        "print(char)\n",
        "for i in range(len):\n",
        "  otp=otp+rm.choice(char)\n",
        "print(otp)"
      ],
      "execution_count": 11,
      "outputs": [
        {
          "output_type": "stream",
          "text": [
            "abcdefghijklmnopqrstuvwxyzABCDEFGHIJKLMNOPQRSTUVWXYZ0123456789\n",
            " SKDp\n"
          ],
          "name": "stdout"
        }
      ]
    },
    {
      "cell_type": "code",
      "metadata": {
        "id": "bss0-giaNktY"
      },
      "source": [
        ""
      ],
      "execution_count": 9,
      "outputs": []
    }
  ]
}